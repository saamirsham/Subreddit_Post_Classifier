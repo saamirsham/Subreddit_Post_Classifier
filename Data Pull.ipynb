{
 "cells": [
  {
   "cell_type": "code",
   "execution_count": 5,
   "id": "6807cb48",
   "metadata": {},
   "outputs": [],
   "source": [
    "from credentials import Id,Secret,Agent,Username,Password"
   ]
  },
  {
   "cell_type": "code",
   "execution_count": null,
   "id": "7df63fb7",
   "metadata": {},
   "outputs": [],
   "source": [
    "reddit = praw.Reddit(\n",
    "    client_id= Id,\n",
    "    client_secret=Secret,\n",
    "    user_agent=Agent,\n",
    "    username=Username,\n",
    "    password=Password\n",
    ")\n"
   ]
  },
  {
   "cell_type": "code",
   "execution_count": null,
   "id": "c658cc36",
   "metadata": {},
   "outputs": [],
   "source": [
    "import pandas as pd\n",
    "def combine_data(posts,label):\n",
    "    data = []\n",
    "    for post in posts:\n",
    "        row = (post.created_utc, post.title, post.selftext, post.subreddit)\n",
    "        data.append(row)\n",
    "        min_time = int(min(t[0] for t in data)) - 100000\n",
    "    print(f'{label.upper()} Posts :: N = {len(data)}')\n",
    "    return data"
   ]
  },
  {
   "cell_type": "code",
   "execution_count": null,
   "id": "5ce9e35c",
   "metadata": {},
   "outputs": [],
   "source": [
    "subreddit = reddit.subreddit('wallstreetbets')\n",
    "\n",
    "posts_new = subreddit.new(limit = 1000)\n",
    "posts_hot = subreddit.hot(limit = 1000)\n",
    "#posts_top = subreddit.top(limit = 1000)\n",
    "posts_con = subreddit.controversial (limit = 1000)\n",
    "\n",
    "data_new = combine_data(posts_new, 'new')\n",
    "data_hot = combine_data(posts_hot, 'hot')\n",
    "#data_top = combine_data(posts_top, 'top')\n",
    "data_con = combine_data(posts_con, 'controversial')"
   ]
  },
  {
   "cell_type": "code",
   "execution_count": null,
   "id": "fa550e40",
   "metadata": {},
   "outputs": [],
   "source": [
    "df_pull_wsb = pd.DataFrame(data_new+data_hot+data_con, columns = ['time','title','text','subreddit'])\n",
    "df_pull_wsb = df_pull_wsb.drop_duplicates()"
   ]
  },
  {
   "cell_type": "code",
   "execution_count": null,
   "id": "f57125b8",
   "metadata": {},
   "outputs": [],
   "source": [
    "subreddit = reddit.subreddit('CryptoCurrency')\n",
    "\n",
    "posts_new = subreddit.new(limit = 1000)\n",
    "posts_hot = subreddit.hot(limit = 1000)\n",
    "posts_top = subreddit.top(limit = 1000)\n",
    "posts_con = subreddit.controversial (limit = 1000)\n",
    "\n",
    "data_new = combine_data(posts_new, 'new')\n",
    "data_hot = combine_data(posts_hot, 'hot')\n",
    "data_top = combine_data(posts_top, 'top')\n",
    "data_con = combine_data(posts_con, 'controversial')"
   ]
  },
  {
   "cell_type": "code",
   "execution_count": null,
   "id": "f7be288a",
   "metadata": {},
   "outputs": [],
   "source": [
    "df_pull_cryp = pd.DataFrame(data_new+data_hot+data_top+data_con, columns = ['time','title','text','subreddit'])\n",
    "df_pull_cryp = df_pull_cryp.drop_duplicates()\n",
    "df_pull_cryp.shape"
   ]
  },
  {
   "cell_type": "code",
   "execution_count": null,
   "id": "59421c10",
   "metadata": {},
   "outputs": [],
   "source": []
  },
  {
   "cell_type": "code",
   "execution_count": null,
   "id": "7edbde64",
   "metadata": {},
   "outputs": [],
   "source": [
    "df_pull = pd.concat([df_pull_wsb,df_pull_cryp])\n",
    "df_pull = df_pull.drop_duplicates()\n",
    "df_pull.shape"
   ]
  },
  {
   "cell_type": "code",
   "execution_count": null,
   "id": "8051f23f",
   "metadata": {},
   "outputs": [],
   "source": []
  },
  {
   "cell_type": "code",
   "execution_count": null,
   "id": "425e8070",
   "metadata": {},
   "outputs": [],
   "source": [
    "df = pd.read_csv('Data')"
   ]
  },
  {
   "cell_type": "code",
   "execution_count": null,
   "id": "306a5e18",
   "metadata": {},
   "outputs": [],
   "source": [
    "df = pd.concat([df,df_pull])"
   ]
  },
  {
   "cell_type": "code",
   "execution_count": null,
   "id": "b2cf8f31",
   "metadata": {},
   "outputs": [],
   "source": [
    "df = df.drop_duplicates()"
   ]
  },
  {
   "cell_type": "code",
   "execution_count": 1,
   "id": "c0db9820",
   "metadata": {},
   "outputs": [
    {
     "ename": "NameError",
     "evalue": "name 'df' is not defined",
     "output_type": "error",
     "traceback": [
      "\u001b[1;31m---------------------------------------------------------------------------\u001b[0m",
      "\u001b[1;31mNameError\u001b[0m                                 Traceback (most recent call last)",
      "Cell \u001b[1;32mIn[1], line 1\u001b[0m\n\u001b[1;32m----> 1\u001b[0m \u001b[43mdf\u001b[49m\u001b[38;5;241m.\u001b[39mto_csv(\u001b[38;5;124m'\u001b[39m\u001b[38;5;124mData\u001b[39m\u001b[38;5;124m'\u001b[39m, index \u001b[38;5;241m=\u001b[39m \u001b[38;5;28;01mFalse\u001b[39;00m)\n",
      "\u001b[1;31mNameError\u001b[0m: name 'df' is not defined"
     ]
    }
   ],
   "source": [
    "df.to_csv('Data', index = False)"
   ]
  },
  {
   "cell_type": "code",
   "execution_count": null,
   "id": "15b3221f",
   "metadata": {},
   "outputs": [],
   "source": []
  }
 ],
 "metadata": {
  "kernelspec": {
   "display_name": "Python 3 (ipykernel)",
   "language": "python",
   "name": "python3"
  },
  "language_info": {
   "codemirror_mode": {
    "name": "ipython",
    "version": 3
   },
   "file_extension": ".py",
   "mimetype": "text/x-python",
   "name": "python",
   "nbconvert_exporter": "python",
   "pygments_lexer": "ipython3",
   "version": "3.10.9"
  }
 },
 "nbformat": 4,
 "nbformat_minor": 5
}
